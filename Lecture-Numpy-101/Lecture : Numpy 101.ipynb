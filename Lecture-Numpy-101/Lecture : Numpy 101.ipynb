{
  "nbformat": 4,
  "nbformat_minor": 0,
  "metadata": {
    "colab": {
      "name": "Lecture : Numpy 101 ",
      "provenance": [],
      "collapsed_sections": [
        "NbUi6tI_VzUv",
        "vBCnuc8BKn6s",
        "QQqwBfooj9S0",
        "8d-v4Xyyv2Kl"
      ]
    },
    "kernelspec": {
      "name": "python3",
      "display_name": "Python 3"
    }
  },
  "cells": [
    {
      "cell_type": "markdown",
      "metadata": {
        "id": "YJ01f2F6D5Fu"
      },
      "source": [
        "This tutorial was contributed by [Ashwani Rathee](https://github.com/ashwani-rathee) and [Abhiroop Singh](https://github.com/abhiroopsk)"
      ]
    },
    {
      "cell_type": "code",
      "metadata": {
        "colab": {
          "base_uri": "https://localhost:8080/"
        },
        "id": "5F4_Mdyu4F6p",
        "outputId": "cbee94e7-cfec-402b-e4df-2654819713ff"
      },
      "source": [
        "!python --version"
      ],
      "execution_count": null,
      "outputs": [
        {
          "output_type": "stream",
          "text": [
            "Python 3.7.10\n"
          ],
          "name": "stdout"
        }
      ]
    },
    {
      "cell_type": "markdown",
      "metadata": {
        "id": "aaZW_9-F1GgZ"
      },
      "source": [
        "## What is NumPy?\n",
        "NumPy, which stands for Numerical Python, is a python library consisting of multidimensional array objects and a collection of routines for processing those arrays. Using NumPy, mathematical and logical operations on arrays can be performed. This tutorial explains the basics of NumPy such as its architecture and environment. It also discusses the various array functions, types of indexing, etc.\n",
        "\n",
        "In 2005,Travis Oliphant created NumPy Package based on previous NumArray.NumPy is often used along with packages like Pandas,SciPy (Scientific Python) and Mat−plotlib (plotting library). \n",
        "\n",
        "###Why use NumPy?\n",
        "In Python we have lists that serve the purpose of arrays, but they are slow to process.\n",
        "\n",
        "NumPy aims to provide an array object that is up to 50x faster than traditional Python lists.\n",
        "\n",
        "The array object in NumPy is called \"ndarray\", it provides a lot of supporting functions that make working with ndarray very easy.\n",
        "\n",
        "Arrays are very frequently used in data science, where speed and resources are very important.\n",
        "\n",
        "### Audience :\n",
        "- People who wish to learn about machine learning concepts in future.\n",
        "\n",
        "#### Prerequisites :\n",
        "- Basic Understanding of computer programming technologies\n",
        "\n",
        "#### Method to install : \n",
        "If you have Python and PIP already installed on a system, then install it using this command:\n",
        "```\n",
        "pip install numpy\n",
        "```"
      ]
    },
    {
      "cell_type": "markdown",
      "metadata": {
        "id": "AKyA-H7PGrV5"
      },
      "source": [
        "### Import Numpy "
      ]
    },
    {
      "cell_type": "code",
      "metadata": {
        "id": "o6XNLb1JkaV5",
        "colab": {
          "base_uri": "https://localhost:8080/"
        },
        "outputId": "50542071-da56-4295-dc0a-a356ef6f0f5c"
      },
      "source": [
        "import numpy as np \n",
        "import matplotlib.pylab as plt\n",
        "from numpy import random\n",
        "#np is a common alias for numpy\n",
        "print(\"Numpy Version: \" ,np.__version__)"
      ],
      "execution_count": null,
      "outputs": [
        {
          "output_type": "stream",
          "text": [
            "Numpy Version:  1.19.5\n"
          ],
          "name": "stdout"
        }
      ]
    },
    {
      "cell_type": "code",
      "metadata": {
        "id": "3Z0q5tFnfOV9"
      },
      "source": [
        "#np? #Help function"
      ],
      "execution_count": null,
      "outputs": []
    },
    {
      "cell_type": "markdown",
      "metadata": {
        "id": "zOB9LWPdKGPS"
      },
      "source": [
        "###Example"
      ]
    },
    {
      "cell_type": "markdown",
      "metadata": {
        "id": "eY3TaL2vKhXq"
      },
      "source": [
        "A numpy array is a grid of values, all of the same type, and is indexed by a tuple of nonnegative integers. The number of dimensions is the rank of the array; the shape of an array is a tuple of integers giving the size of the array along each dimension.\n",
        "\n",
        "To create an ndarray, we can pass a list, tuple or any array-like object into the array() method, and it will be converted into an ndarray:"
      ]
    },
    {
      "cell_type": "code",
      "metadata": {
        "colab": {
          "base_uri": "https://localhost:8080/"
        },
        "id": "qfIaI1ocKSCC",
        "outputId": "93386704-f647-4d8b-b5ed-76749223fddc"
      },
      "source": [
        "sample_list=[1,2,3,4,5]\r\n",
        "arr = np.array(sample_list,dtype=np.int8) #we can specify the datatype,creates array of rank 1\r\n",
        "print(arr)\r\n",
        "print(type(arr))"
      ],
      "execution_count": null,
      "outputs": [
        {
          "output_type": "stream",
          "text": [
            "[1 2 3 4 5]\n",
            "<class 'numpy.ndarray'>\n"
          ],
          "name": "stdout"
        }
      ]
    },
    {
      "cell_type": "markdown",
      "metadata": {
        "id": "rElbVNOAYGLE"
      },
      "source": [
        "### Array Creation"
      ]
    },
    {
      "cell_type": "markdown",
      "metadata": {
        "id": "X_69HsuvNJYU"
      },
      "source": [
        "#### 0-D Arrays\n",
        "0-D arrays, or Scalars, are the elements in an array. Each value in an array is a 0-D array."
      ]
    },
    {
      "cell_type": "code",
      "metadata": {
        "colab": {
          "base_uri": "https://localhost:8080/"
        },
        "id": "frvM0_T2NOzy",
        "outputId": "30eec1e0-dcbd-4e50-bd01-8b8b4d938e05"
      },
      "source": [
        "arr = np.array(42)\r\n",
        "print(arr)"
      ],
      "execution_count": null,
      "outputs": [
        {
          "output_type": "stream",
          "text": [
            "42\n"
          ],
          "name": "stdout"
        }
      ]
    },
    {
      "cell_type": "markdown",
      "metadata": {
        "id": "BFCBMAaxNiXi"
      },
      "source": [
        "#### 1-D Arrays\n",
        "*An* array that has 0-D arrays as its elements is called uni-dimensional or 1-D array."
      ]
    },
    {
      "cell_type": "code",
      "metadata": {
        "colab": {
          "base_uri": "https://localhost:8080/"
        },
        "id": "9CQT-u9nNn7S",
        "outputId": "1eb8ad22-802e-4094-e427-0905ab921327"
      },
      "source": [
        "arr = np.array([1, 2, 3, 4, 5])\r\n",
        "print(arr)"
      ],
      "execution_count": null,
      "outputs": [
        {
          "output_type": "stream",
          "text": [
            "[1 2 3 4 5]\n"
          ],
          "name": "stdout"
        }
      ]
    },
    {
      "cell_type": "markdown",
      "metadata": {
        "id": "JAAzgYDcNzLC"
      },
      "source": [
        "#### 2-D Arrays\n",
        "An array that has 1-D arrays as its elements is called a 2-D array."
      ]
    },
    {
      "cell_type": "code",
      "metadata": {
        "colab": {
          "base_uri": "https://localhost:8080/"
        },
        "id": "Qqa9fVU7N8m1",
        "outputId": "8f3d2698-df36-4744-dc51-e703e044575e"
      },
      "source": [
        "arr = np.array([[1, 2, 3], [4, 5, 6]])\r\n",
        "print(arr)"
      ],
      "execution_count": null,
      "outputs": [
        {
          "output_type": "stream",
          "text": [
            "[[1 2 3]\n",
            " [4 5 6]]\n"
          ],
          "name": "stdout"
        }
      ]
    },
    {
      "cell_type": "markdown",
      "metadata": {
        "id": "3xa3z_BkOE4T"
      },
      "source": [
        "#### 3-D arrays\n",
        "An array that has 2-D arrays (matrices) as its elements is called 3-D array."
      ]
    },
    {
      "cell_type": "code",
      "metadata": {
        "colab": {
          "base_uri": "https://localhost:8080/"
        },
        "id": "mB3dV28VOJ36",
        "outputId": "72b8a629-3c39-4d01-c9e7-5b2744156ee3"
      },
      "source": [
        "arr = np.array([[[1, 2, 3], [4, 5, 6]], [[1, 2, 3], [4, 5, 6]]])\r\n",
        "print(arr)"
      ],
      "execution_count": null,
      "outputs": [
        {
          "output_type": "stream",
          "text": [
            "[[[1 2 3]\n",
            "  [4 5 6]]\n",
            "\n",
            " [[1 2 3]\n",
            "  [4 5 6]]]\n"
          ],
          "name": "stdout"
        }
      ]
    },
    {
      "cell_type": "code",
      "metadata": {
        "colab": {
          "base_uri": "https://localhost:8080/"
        },
        "id": "4PcUU5RWHNfM",
        "outputId": "73767dad-3ece-4b45-a80c-a830b2f8bc9e"
      },
      "source": [
        "a = np.array([1,2,3]) \n",
        "b = np.array([[1, 2], [3, 4]]) \n",
        "c = np.array([1, 2, 3], dtype = complex) \n",
        "print(\"A : \\n\",a)\n",
        "print(\"B : \\n\",b)\n",
        "print(\"C : \\n\",c)"
      ],
      "execution_count": null,
      "outputs": [
        {
          "output_type": "stream",
          "text": [
            "A : \n",
            " [1 2 3]\n",
            "B : \n",
            " [[1 2]\n",
            " [3 4]]\n",
            "C : \n",
            " [1.+0.j 2.+0.j 3.+0.j]\n"
          ],
          "name": "stdout"
        }
      ]
    },
    {
      "cell_type": "markdown",
      "metadata": {
        "id": "Dzj_MjdYPj2y"
      },
      "source": [
        "#### Generate Random Array:"
      ]
    },
    {
      "cell_type": "code",
      "metadata": {
        "id": "KnDALicODs04",
        "colab": {
          "base_uri": "https://localhost:8080/"
        },
        "outputId": "f278e6ee-32ff-4e8a-91d9-7cea7e3245de"
      },
      "source": [
        "x1 = np.random.randint(10, size=6)  # One-dimensional array\n",
        "x2 = np.random.randint(10, size=(3, 4))  # Two-dimensional array\n",
        "x3 = np.random.randint(10, size=(3, 4, 5))  # Three-dimensional array\n",
        "np.random.randint(10,50,5) #start,stop,no of values"
      ],
      "execution_count": null,
      "outputs": [
        {
          "output_type": "execute_result",
          "data": {
            "text/plain": [
              "array([44, 29, 46, 16, 42])"
            ]
          },
          "metadata": {
            "tags": []
          },
          "execution_count": 9
        }
      ]
    },
    {
      "cell_type": "code",
      "metadata": {
        "colab": {
          "base_uri": "https://localhost:8080/"
        },
        "id": "m2CMwSDlFhgc",
        "outputId": "6e18e9e3-d176-4588-f70d-494cf30007e9"
      },
      "source": [
        "# print(x1);\n",
        "print(\"x2: \\n\", x2);\n",
        "# Try to print x3 array\n",
        "# print(...); "
      ],
      "execution_count": null,
      "outputs": [
        {
          "output_type": "stream",
          "text": [
            "x2: \n",
            " [[0 1 0 1]\n",
            " [5 8 7 9]\n",
            " [6 7 0 4]]\n"
          ],
          "name": "stdout"
        }
      ]
    },
    {
      "cell_type": "markdown",
      "metadata": {
        "id": "NbUi6tI_VzUv"
      },
      "source": [
        "#### Other methods: Using Arange,Linspace,Zeros,Ones"
      ]
    },
    {
      "cell_type": "code",
      "metadata": {
        "colab": {
          "base_uri": "https://localhost:8080/"
        },
        "id": "49BaKBObWI6e",
        "outputId": "c812902e-4dc5-4f56-eddb-3108210bdd00"
      },
      "source": [
        "np.arange(0,10,2) #start,stop,size of step"
      ],
      "execution_count": null,
      "outputs": [
        {
          "output_type": "execute_result",
          "data": {
            "text/plain": [
              "array([0, 2, 4, 6, 8])"
            ]
          },
          "metadata": {
            "tags": []
          },
          "execution_count": 44
        }
      ]
    },
    {
      "cell_type": "code",
      "metadata": {
        "colab": {
          "base_uri": "https://localhost:8080/"
        },
        "id": "wM4dxfCIWMrd",
        "outputId": "2ab66003-f995-4d1d-ea81-abf68581b5dd"
      },
      "source": [
        "np.linspace(0,10,5) #start,stop,number of values in between"
      ],
      "execution_count": null,
      "outputs": [
        {
          "output_type": "execute_result",
          "data": {
            "text/plain": [
              "array([ 0. ,  2.5,  5. ,  7.5, 10. ])"
            ]
          },
          "metadata": {
            "tags": []
          },
          "execution_count": 45
        }
      ]
    },
    {
      "cell_type": "code",
      "metadata": {
        "colab": {
          "base_uri": "https://localhost:8080/"
        },
        "id": "YBZ3GlYPW1w0",
        "outputId": "b8e0c9df-6464-481c-f09a-b0e499c9a174"
      },
      "source": [
        "np.zeros(3)"
      ],
      "execution_count": null,
      "outputs": [
        {
          "output_type": "execute_result",
          "data": {
            "text/plain": [
              "array([0., 0., 0.])"
            ]
          },
          "metadata": {
            "tags": []
          },
          "execution_count": 46
        }
      ]
    },
    {
      "cell_type": "code",
      "metadata": {
        "colab": {
          "base_uri": "https://localhost:8080/"
        },
        "id": "7CQXNqikXDUn",
        "outputId": "d06d2a0f-f4b5-4bea-d300-9ac879ab2f52"
      },
      "source": [
        "np.ones((3,2))"
      ],
      "execution_count": null,
      "outputs": [
        {
          "output_type": "execute_result",
          "data": {
            "text/plain": [
              "array([[1., 1.],\n",
              "       [1., 1.],\n",
              "       [1., 1.]])"
            ]
          },
          "metadata": {
            "tags": []
          },
          "execution_count": 47
        }
      ]
    },
    {
      "cell_type": "markdown",
      "metadata": {
        "id": "qYsIFKrTUafv"
      },
      "source": [
        "### Ndarray Properties"
      ]
    },
    {
      "cell_type": "code",
      "metadata": {
        "id": "XSAqAMbIDs05",
        "colab": {
          "base_uri": "https://localhost:8080/"
        },
        "outputId": "ce34ce1a-ce2a-4eca-f5e3-0f318a97a68f"
      },
      "source": [
        "print(\"x2 ndim: \", x2.ndim) # ndim-> the number of dimensions\n",
        "print(\"x2 shape:\", x2.shape) # shape-> the size of each dimension\n",
        "print(\"x2 size: \", x2.size) # size-> the total size of the array\n",
        "print(\"x2 datatype: \", x2.dtype) # dtype-> the data type of the array\n",
        "print(\"x2 itemsize: \", x2.itemsize,\"bytes\") # itemsize-> lists size of each array element\n",
        "print(\"x2 nbytes: \", x2.nbytes,\"bytes\") # nbytes->  lists the total size (in bytes) of the array"
      ],
      "execution_count": null,
      "outputs": [
        {
          "output_type": "stream",
          "text": [
            "x2 ndim:  2\n",
            "x2 shape: (3, 4)\n",
            "x2 size:  12\n",
            "x2 datatype:  int64\n",
            "x2 itemsize:  8 bytes\n",
            "x2 nbytes:  96 bytes\n"
          ],
          "name": "stdout"
        }
      ]
    },
    {
      "cell_type": "code",
      "metadata": {
        "colab": {
          "base_uri": "https://localhost:8080/"
        },
        "id": "NtGUlXpCIKqw",
        "outputId": "48b83f05-fa14-448a-e920-92260febf092"
      },
      "source": [
        "List = [0,'lecture',1.0,5.6234]\n",
        "# List.dtype\n",
        "data = np.array(List)\n",
        "data.dtype"
      ],
      "execution_count": null,
      "outputs": [
        {
          "output_type": "execute_result",
          "data": {
            "text/plain": [
              "dtype('<U21')"
            ]
          },
          "metadata": {
            "tags": []
          },
          "execution_count": 16
        }
      ]
    },
    {
      "cell_type": "markdown",
      "metadata": {
        "id": "vBCnuc8BKn6s"
      },
      "source": [
        "### Array indexing\n"
      ]
    },
    {
      "cell_type": "code",
      "metadata": {
        "colab": {
          "base_uri": "https://localhost:8080/"
        },
        "id": "gxeYbWbBHuzj",
        "outputId": "46e9ccb7-7add-4af3-8950-e1293415fc45"
      },
      "source": [
        "#Array indexing\n",
        "# If we want to access element in different dimensions arrays\n",
        "# In single dimensional x1 array :  \n",
        "print(x1)\n",
        "print(\"Array 1:\",x1[1]);\n",
        "# In 2-dimensional x2 array :\n",
        "# print(x2[i,j]);\n",
        "print(x2)\n",
        "print(\"Array 2:\",x2[1,1])\n",
        "# In 3-dimensional x3 array :\n",
        "print(\"Array 3:\",x3[1,1,1]);"
      ],
      "execution_count": null,
      "outputs": [
        {
          "output_type": "stream",
          "text": [
            "[5 0 3 3 7 9]\n",
            "Array 1: 0\n",
            "[[3 5 2 4]\n",
            " [7 6 8 8]\n",
            " [1 6 7 7]]\n",
            "Array 2: 6\n",
            "Array 3: 7\n"
          ],
          "name": "stdout"
        }
      ]
    },
    {
      "cell_type": "markdown",
      "metadata": {
        "id": "ZyUhGYLUgNnL"
      },
      "source": [
        "### Array Slicing\n",
        "Slicing in python means taking elements from one given index to another given index.\n",
        "A slice of an array is a view into the same data, so modifying it will modify the original array."
      ]
    },
    {
      "cell_type": "code",
      "metadata": {
        "colab": {
          "base_uri": "https://localhost:8080/"
        },
        "id": "sc8HizuPgZLK",
        "outputId": "a7a59d66-046a-47be-80d6-305ce1257dfa"
      },
      "source": [
        "x1 = np.arange(10)\n",
        "print(\"Example 1:\",x1[0:10]) # x1[start:end]\n",
        "print(\"Example 2:\",x1[0:10:2]) # x1[start:end:step]\n",
        "print(\"Example 3:\",x1[0:]) # all elements from index 0 to the end of the array\n",
        "print(\"Example 4:\",x1[:5]) # all elements from beginning to index 5\n",
        "#Negative slicing can also be done\n",
        "print(\"Example 5:\",x1[::2]) #return every other element from start index 0 to index 10\n",
        "\n",
        "x2 = np.array([[1, 2, 3, 4, 5], [6, 7, 8, 9, 10]])\n",
        "\n",
        "print(\"Example 6:\",x2[0:2, 1:4]) #  slice index 1 to index 4 (not included),2-d array returned"
      ],
      "execution_count": null,
      "outputs": [
        {
          "output_type": "stream",
          "text": [
            "Example 1: [0 1 2 3 4 5 6 7 8 9]\n",
            "Example 2: [0 2 4 6 8]\n",
            "Example 3: [0 1 2 3 4 5 6 7 8 9]\n",
            "Example 4: [0 1 2 3 4]\n",
            "Example 5: [0 2 4 6 8]\n",
            "Example 6: [[2 3 4]\n",
            " [7 8 9]]\n"
          ],
          "name": "stdout"
        }
      ]
    },
    {
      "cell_type": "markdown",
      "metadata": {
        "id": "GJ1QuXTglDD4"
      },
      "source": [
        "### Array Manipulation"
      ]
    },
    {
      "cell_type": "code",
      "metadata": {
        "colab": {
          "base_uri": "https://localhost:8080/"
        },
        "id": "-mN-NAhJPItv",
        "outputId": "281a5930-ef5e-41ce-ebbb-2ad39c55fe4a"
      },
      "source": [
        "x1 = np.arange(10)\n",
        "print(\"x1:\",x1)\n",
        "x1[0] = 5\n",
        "print(\"x1:\",x1)"
      ],
      "execution_count": null,
      "outputs": [
        {
          "output_type": "stream",
          "text": [
            "x1: [0 1 2 3 4 5 6 7 8 9]\n",
            "x1: [5 1 2 3 4 5 6 7 8 9]\n"
          ],
          "name": "stdout"
        }
      ]
    },
    {
      "cell_type": "code",
      "metadata": {
        "colab": {
          "base_uri": "https://localhost:8080/"
        },
        "id": "HAkhtSZegY76",
        "outputId": "d5cda6d1-e950-4ded-a0dd-80bac9df4fd2"
      },
      "source": [
        "print(\"x2:\\n\",x2)\n",
        "print(\"Logical operation in arrays:\",x2[(x2>3) & (x2<7)])\n",
        "print(\"Example 2:\",x2[x2>5])"
      ],
      "execution_count": null,
      "outputs": [
        {
          "output_type": "stream",
          "text": [
            "x2:\n",
            " [[ 1  2  3  4  5]\n",
            " [ 6  7  8  9 10]]\n",
            "Logical operation in arrays: [4 5 6]\n",
            "Example 2: [ 6  7  8  9 10]\n"
          ],
          "name": "stdout"
        }
      ]
    },
    {
      "cell_type": "code",
      "metadata": {
        "colab": {
          "base_uri": "https://localhost:8080/"
        },
        "id": "IRFm_jSDlRHN",
        "outputId": "e19974ca-0f3b-4094-fdc4-0ebf5239969b"
      },
      "source": [
        "new_arr= np.array([0,1,2,1,3,4,1])\n",
        "print(\"Print Unique Array:\",np.unique(new_arr)) # using np.unique method"
      ],
      "execution_count": null,
      "outputs": [
        {
          "output_type": "stream",
          "text": [
            "Print Unique Array: [0 1 2 3 4]\n"
          ],
          "name": "stdout"
        }
      ]
    },
    {
      "cell_type": "code",
      "metadata": {
        "colab": {
          "base_uri": "https://localhost:8080/"
        },
        "id": "IvEsu-cQmNU4",
        "outputId": "7582079f-b976-43e7-bedc-13c6eac028f4"
      },
      "source": [
        "print(\"Array x2 :\\n\",x2)\n",
        "print(\"Array x2':\\n\",np.transpose(x2)) #Transpose of array "
      ],
      "execution_count": null,
      "outputs": [
        {
          "output_type": "stream",
          "text": [
            "Array x2 :\n",
            " [[ 1  2  3  4  5]\n",
            " [ 6  7  8  9 10]]\n",
            "Array x2':\n",
            " [[ 1  6]\n",
            " [ 2  7]\n",
            " [ 3  8]\n",
            " [ 4  9]\n",
            " [ 5 10]]\n"
          ],
          "name": "stdout"
        }
      ]
    },
    {
      "cell_type": "code",
      "metadata": {
        "colab": {
          "base_uri": "https://localhost:8080/"
        },
        "id": "2YAVRLzen4_F",
        "outputId": "67bcb27b-0b59-49b9-fa8f-8412f72dbd9d"
      },
      "source": [
        "print(\"Array x2 :\\n\",x2)\n",
        "print(\"Array x2':\\n\",x2.flatten()) # Flatten the array"
      ],
      "execution_count": null,
      "outputs": [
        {
          "output_type": "stream",
          "text": [
            "Array x2 :\n",
            " [[ 1  2  3  4  5]\n",
            " [ 6  7  8  9 10]]\n",
            "Array x2':\n",
            " [ 1  2  3  4  5  6  7  8  9 10]\n"
          ],
          "name": "stdout"
        }
      ]
    },
    {
      "cell_type": "code",
      "metadata": {
        "colab": {
          "base_uri": "https://localhost:8080/"
        },
        "id": "bqtuGtnlodlV",
        "outputId": "6247dfe5-99f5-480e-ba75-ef4528677f1c"
      },
      "source": [
        "x2 = np.random.randint(10, size=(3, 4))\n",
        "print(x2)\n",
        "print(\"Sorted Array x2:\\n\",x2.sort(axis=1)) \n",
        "x2.sort(axis=1) #issues coming here"
      ],
      "execution_count": null,
      "outputs": [
        {
          "output_type": "stream",
          "text": [
            "[[4 3 7 5]\n",
            " [5 0 1 5]\n",
            " [9 3 0 5]]\n",
            "Sorted Array x2:\n",
            " None\n"
          ],
          "name": "stdout"
        }
      ]
    },
    {
      "cell_type": "markdown",
      "metadata": {
        "id": "QQqwBfooj9S0"
      },
      "source": [
        "### Array Reshaping\n"
      ]
    },
    {
      "cell_type": "code",
      "metadata": {
        "colab": {
          "base_uri": "https://localhost:8080/"
        },
        "id": "pUxQQt8UY2q5",
        "outputId": "4a76ea40-4ab4-4e6e-94d4-971f64d06d12"
      },
      "source": [
        "arr = np.arange(10)\n",
        "print(\"Initial Array : \",arr)\n",
        "print(\"Initial Array Shape: \",arr.shape)\n",
        "arr = arr.reshape(2,5)\n",
        "print(\"Final Array  : \\n\",arr)\n",
        "print(\"Final Array Shape: \",arr.shape)"
      ],
      "execution_count": null,
      "outputs": [
        {
          "output_type": "stream",
          "text": [
            "Initial Array :  [0 1 2 3 4 5 6 7 8 9]\n",
            "Initial Array Shape:  (10,)\n",
            "Final Array  : \n",
            " [[0 1 2 3 4]\n",
            " [5 6 7 8 9]]\n",
            "Final Array Shape:  (2, 5)\n"
          ],
          "name": "stdout"
        }
      ]
    },
    {
      "cell_type": "markdown",
      "metadata": {
        "id": "kCaBnxOCKYPG"
      },
      "source": [
        "### Array Resizing\n",
        "- Using Shape\n",
        "- Using Resize"
      ]
    },
    {
      "cell_type": "code",
      "metadata": {
        "id": "y7qn4WpllNiz",
        "colab": {
          "base_uri": "https://localhost:8080/"
        },
        "outputId": "1e49f4ff-aac5-41c3-8fd9-b63455a18646"
      },
      "source": [
        "# Using Shape\n",
        "arr = np.array([[1,2,3],[4,5,6]]) \n",
        "print(arr.shape) #initially it had two rows and three columns\n",
        "arr.shape = (3,2) \n",
        "print(arr) #Now,It has three rows and two columns"
      ],
      "execution_count": null,
      "outputs": [
        {
          "output_type": "stream",
          "text": [
            "(2, 3)\n",
            "[[1 2]\n",
            " [3 4]\n",
            " [5 6]]\n"
          ],
          "name": "stdout"
        }
      ]
    },
    {
      "cell_type": "code",
      "metadata": {
        "colab": {
          "base_uri": "https://localhost:8080/"
        },
        "id": "Nje_YSPFSOt_",
        "outputId": "fb5e5fd4-d46b-4189-c16d-b3421e153235"
      },
      "source": [
        "# Using Resize\n",
        "arr = np.array([[1,2,3],[4,5,6]]) \n",
        "print(arr.shape) #initially it had two rows and three columns\n",
        "arr = arr.reshape(3,2) \n",
        "print(arr) #Now,It has three rows and two columns"
      ],
      "execution_count": null,
      "outputs": [
        {
          "output_type": "stream",
          "text": [
            "(2, 3)\n",
            "[[1 2]\n",
            " [3 4]\n",
            " [5 6]]\n"
          ],
          "name": "stdout"
        }
      ]
    },
    {
      "cell_type": "code",
      "metadata": {
        "id": "SaXTFFYElNgG",
        "colab": {
          "base_uri": "https://localhost:8080/",
          "height": 129
        },
        "outputId": "f050c581-01f6-4a95-f9e9-c6daa73e62da"
      },
      "source": [
        "# Do it yourself\n",
        "brr = np.array([[1,2,3,4,5,6],[4,5,6,7,8,9]]) \n",
        "print() # find the brr shape first \n",
        "brr.shape = # (4,3) ,resize it to  \n",
        "print(brr) #How many rows and columns does it have now?"
      ],
      "execution_count": null,
      "outputs": [
        {
          "output_type": "error",
          "ename": "SyntaxError",
          "evalue": "ignored",
          "traceback": [
            "\u001b[0;36m  File \u001b[0;32m\"<ipython-input-59-8d9655826dff>\"\u001b[0;36m, line \u001b[0;32m4\u001b[0m\n\u001b[0;31m    brr.shape = # (4,3) ,resize it to\u001b[0m\n\u001b[0m                                       ^\u001b[0m\n\u001b[0;31mSyntaxError\u001b[0m\u001b[0;31m:\u001b[0m invalid syntax\n"
          ]
        }
      ]
    },
    {
      "cell_type": "markdown",
      "metadata": {
        "id": "8Qx3jVJ6pHQJ"
      },
      "source": [
        "### Array Stacking & Splitting\n"
      ]
    },
    {
      "cell_type": "code",
      "metadata": {
        "colab": {
          "base_uri": "https://localhost:8080/"
        },
        "id": "Kpg5sDl2pNFx",
        "outputId": "9f0e7051-66f8-43f2-8959-2d00a421c586"
      },
      "source": [
        "x1 = np.random.randint(10, size=(3, 3))\n",
        "x2 = np.random.randint(10, size=(3,3))\n",
        "print(\"x1: \\n\",x1)\n",
        "print(\"x2: \\n\",x2)\n",
        "print(\"Vertical Stack: \\n\",np.vstack((x1,x2))) #useful in pandas if you remember csv\n",
        "print(\"Horizontal Stack: \\n\",np.hstack((x1,x2)))"
      ],
      "execution_count": null,
      "outputs": [
        {
          "output_type": "stream",
          "text": [
            "x1: \n",
            " [[0 7 5]\n",
            " [9 0 2]\n",
            " [7 2 9]]\n",
            "x2: \n",
            " [[2 3 3]\n",
            " [2 3 4]\n",
            " [1 2 9]]\n",
            "Vertical Stack: \n",
            " [[0 7 5]\n",
            " [9 0 2]\n",
            " [7 2 9]\n",
            " [2 3 3]\n",
            " [2 3 4]\n",
            " [1 2 9]]\n",
            "Horizontal Stack: \n",
            " [[0 7 5 2 3 3]\n",
            " [9 0 2 2 3 4]\n",
            " [7 2 9 1 2 9]]\n"
          ],
          "name": "stdout"
        }
      ]
    },
    {
      "cell_type": "code",
      "metadata": {
        "colab": {
          "base_uri": "https://localhost:8080/"
        },
        "id": "Woex4SzmrTBQ",
        "outputId": "f91d9a64-2973-46cf-f978-5ebf784350c1"
      },
      "source": [
        "print(\"x1: \\n\",x1)\n",
        "print(\"x2: \\n\",x2)\n",
        "x3 = np.delete(x1,2,1)\n",
        "x4 = np.delete(x2,1,0)\n",
        "print(\"x3: \\n\",x3)\n",
        "print(\"x4: \\n\",x4)"
      ],
      "execution_count": null,
      "outputs": [
        {
          "output_type": "stream",
          "text": [
            "x1: \n",
            " [[0 7 5]\n",
            " [9 0 2]\n",
            " [7 2 9]]\n",
            "x2: \n",
            " [[2 3 3]\n",
            " [2 3 4]\n",
            " [1 2 9]]\n",
            "x3: \n",
            " [[0 7]\n",
            " [9 0]\n",
            " [7 2]]\n",
            "x4: \n",
            " [[2 3 3]\n",
            " [1 2 9]]\n"
          ],
          "name": "stdout"
        }
      ]
    },
    {
      "cell_type": "markdown",
      "metadata": {
        "id": "8d-v4Xyyv2Kl"
      },
      "source": [
        "### Array Copying\n"
      ]
    },
    {
      "cell_type": "code",
      "metadata": {
        "colab": {
          "base_uri": "https://localhost:8080/"
        },
        "id": "Gh5nIVQCv3lc",
        "outputId": "b6d2fa21-7950-4fc2-89e2-d9f2bc497206"
      },
      "source": [
        "x1 = np.random.randint(10, size=(2, 2))\n",
        "print(\"Initial x1:\",x1)\n",
        "x2 = x1 # they will point at same array\n",
        "x2[0,0] = 2\n",
        "print(x1,\"\\n\",x2)\n",
        "\n",
        "x2=x1.view() \n",
        "x2[1,1] = 2\n",
        "print(x1,\"\\n\",x2)\n",
        "\n",
        "x2=x1.copy()\n",
        "print(x1,\"\\n\",x2)"
      ],
      "execution_count": null,
      "outputs": [
        {
          "output_type": "stream",
          "text": [
            "Initial x1: [[2 3]\n",
            " [2 0]]\n",
            "[[2 3]\n",
            " [2 0]] \n",
            " [[2 3]\n",
            " [2 0]]\n",
            "[[2 3]\n",
            " [2 2]] \n",
            " [[2 3]\n",
            " [2 2]]\n",
            "[[2 3]\n",
            " [2 2]] \n",
            " [[2 3]\n",
            " [2 2]]\n"
          ],
          "name": "stdout"
        }
      ]
    },
    {
      "cell_type": "markdown",
      "metadata": {
        "id": "LfsKOlIrQp7f"
      },
      "source": [
        "### Array Math\n",
        "Basic mathematical functions operate elementwise on arrays, and are available both as operator overloads and as functions."
      ]
    },
    {
      "cell_type": "code",
      "metadata": {
        "colab": {
          "base_uri": "https://localhost:8080/"
        },
        "id": "asGqkstTQpJE",
        "outputId": "6e526bdc-537a-47a0-8b1a-81d67b887060"
      },
      "source": [
        "x = np.array([[1,2],[3,4]], dtype=np.float64)\n",
        "y = np.array([[5,6],[7,8]], dtype=np.float64)\n",
        "\n",
        "# Elementwise sum; both produce the array\n",
        "# [[ 6.0  8.0]\n",
        "#  [10.0 12.0]]\n",
        "print(x+2)\n",
        "print(x + y)\n",
        "print(np.add(x,2))\n",
        "print(np.add(x, y))"
      ],
      "execution_count": null,
      "outputs": [
        {
          "output_type": "stream",
          "text": [
            "[[3. 4.]\n",
            " [5. 6.]]\n",
            "[[ 6.  8.]\n",
            " [10. 12.]]\n",
            "[[3. 4.]\n",
            " [5. 6.]]\n",
            "[[ 6.  8.]\n",
            " [10. 12.]]\n"
          ],
          "name": "stdout"
        }
      ]
    },
    {
      "cell_type": "code",
      "metadata": {
        "colab": {
          "base_uri": "https://localhost:8080/"
        },
        "id": "Gz4whjL3RKf0",
        "outputId": "66fe5f83-2c40-4ebf-dc15-636d4b088d7d"
      },
      "source": [
        "\n",
        "# Elementwise difference; both produce the array\n",
        "# [[-4.0 -4.0]\n",
        "#  [-4.0 -4.0]]\n",
        "print(x - y)\n",
        "print(np.subtract(x, y))"
      ],
      "execution_count": null,
      "outputs": [
        {
          "output_type": "stream",
          "text": [
            "[[-4. -4.]\n",
            " [-4. -4.]]\n",
            "[[-4. -4.]\n",
            " [-4. -4.]]\n"
          ],
          "name": "stdout"
        }
      ]
    },
    {
      "cell_type": "code",
      "metadata": {
        "colab": {
          "base_uri": "https://localhost:8080/"
        },
        "id": "LzLqguGKRNXT",
        "outputId": "dd164380-8b2a-4ac7-d733-baa600338e20"
      },
      "source": [
        "# Elementwise product; both produce the array\n",
        "# [[ 5.0 12.0]\n",
        "#  [21.0 32.0]]\n",
        "print(x * y)\n",
        "print(np.multiply(x, y))"
      ],
      "execution_count": null,
      "outputs": [
        {
          "output_type": "stream",
          "text": [
            "[[ 5. 12.]\n",
            " [21. 32.]]\n",
            "[[ 5. 12.]\n",
            " [21. 32.]]\n"
          ],
          "name": "stdout"
        }
      ]
    },
    {
      "cell_type": "code",
      "metadata": {
        "colab": {
          "base_uri": "https://localhost:8080/"
        },
        "id": "VhSeOrQ3RRXB",
        "outputId": "473c8790-e4c3-4faa-a7fc-c9a37a0020c4"
      },
      "source": [
        "# Elementwise division; both produce the array\n",
        "# [[ 0.2         0.33333333]\n",
        "#  [ 0.42857143  0.5       ]]\n",
        "print(x / y)\n",
        "print(np.divide(x, y))\n",
        "print(np.remainder(x, y))\n",
        "print(np.log2(x))"
      ],
      "execution_count": null,
      "outputs": [
        {
          "output_type": "stream",
          "text": [
            "[[0.2        0.33333333]\n",
            " [0.42857143 0.5       ]]\n",
            "[[0.2        0.33333333]\n",
            " [0.42857143 0.5       ]]\n",
            "[[1. 2.]\n",
            " [3. 4.]]\n",
            "[[0.        1.       ]\n",
            " [1.5849625 2.       ]]\n"
          ],
          "name": "stdout"
        }
      ]
    },
    {
      "cell_type": "code",
      "metadata": {
        "colab": {
          "base_uri": "https://localhost:8080/"
        },
        "id": "JiTJ89CNRU5K",
        "outputId": "620af2bf-6933-4a59-fea9-92dc788bd73e"
      },
      "source": [
        "# Elementwise square root; produces the array\n",
        "# [[ 1.          1.41421356]\n",
        "#  [ 1.73205081  2.        ]]\n",
        "print(np.sqrt(x))"
      ],
      "execution_count": null,
      "outputs": [
        {
          "output_type": "stream",
          "text": [
            "[[1.         1.41421356]\n",
            " [1.73205081 2.        ]]\n"
          ],
          "name": "stdout"
        }
      ]
    },
    {
      "cell_type": "code",
      "metadata": {
        "colab": {
          "base_uri": "https://localhost:8080/"
        },
        "id": "_YMaCnXxXrK6",
        "outputId": "6937418c-21ef-429d-910e-6879f74c7f47"
      },
      "source": [
        "np.floor([1.2,3.23,123.21])"
      ],
      "execution_count": null,
      "outputs": [
        {
          "output_type": "execute_result",
          "data": {
            "text/plain": [
              "array([  1.,   3., 123.])"
            ]
          },
          "metadata": {
            "tags": []
          },
          "execution_count": 107
        }
      ]
    },
    {
      "cell_type": "code",
      "metadata": {
        "id": "YFVzOVY9Xwpl",
        "colab": {
          "base_uri": "https://localhost:8080/"
        },
        "outputId": "937a4b28-b773-41e3-b6c7-0b903f7e7560"
      },
      "source": [
        "np.ceil([1.2,3.23,123.21])"
      ],
      "execution_count": null,
      "outputs": [
        {
          "output_type": "execute_result",
          "data": {
            "text/plain": [
              "array([  2.,   4., 124.])"
            ]
          },
          "metadata": {
            "tags": []
          },
          "execution_count": 108
        }
      ]
    },
    {
      "cell_type": "code",
      "metadata": {
        "colab": {
          "base_uri": "https://localhost:8080/"
        },
        "id": "mRvsksppUxAm",
        "outputId": "7f905bdc-03a4-4d76-db16-ed47f4ebeaf0"
      },
      "source": [
        "x = np.random.randint(100, size=(4))\n",
        "y = np.random.randint(100, size=(2,3))\n",
        "print(y)\n",
        "print(\"direct sum:\",y.sum(axis=0))\n",
        "print(\"cumsum : \" ,y.cumsum(axis=0))\n",
        "print(\"max:\",y.max(axis=0))\n",
        "print(\"min:\",y.min(axis=0))"
      ],
      "execution_count": null,
      "outputs": [
        {
          "output_type": "stream",
          "text": [
            "[[76 35 86]\n",
            " [61 69 87]]\n",
            "direct sum: [137 104 173]\n",
            "cumsum :  [[ 76  35  86]\n",
            " [137 104 173]]\n",
            "max: [76 69 87]\n",
            "min: [61 35 86]\n"
          ],
          "name": "stdout"
        }
      ]
    },
    {
      "cell_type": "markdown",
      "metadata": {
        "id": "tAio-SgrVY3D"
      },
      "source": [
        ""
      ]
    },
    {
      "cell_type": "code",
      "metadata": {
        "colab": {
          "base_uri": "https://localhost:8080/"
        },
        "id": "7mlpwWxYRjmO",
        "outputId": "b6e4c229-e52a-4c59-f1b6-9494e4e4c2ed"
      },
      "source": [
        "x = np.array([[1,2],[3,4]])\n",
        "y = np.array([[5,6],[7,8]])\n",
        "\n",
        "v = np.array([9,10])\n",
        "w = np.array([11, 12])\n",
        "\n",
        "# Inner product of vectors; both produce 219\n",
        "print(v.dot(w))\n",
        "print(np.dot(v, w))"
      ],
      "execution_count": null,
      "outputs": [
        {
          "output_type": "stream",
          "text": [
            "219\n",
            "219\n"
          ],
          "name": "stdout"
        }
      ]
    },
    {
      "cell_type": "code",
      "metadata": {
        "colab": {
          "base_uri": "https://localhost:8080/"
        },
        "id": "6l8iwoufRoVd",
        "outputId": "be3173e3-dad6-4f25-aeaf-7553a0389521"
      },
      "source": [
        "# Matrix / vector product; both produce the rank 1 array [29 67]\n",
        "print(x.dot(v))\n",
        "print(np.dot(x, v))"
      ],
      "execution_count": null,
      "outputs": [
        {
          "output_type": "stream",
          "text": [
            "[29 67]\n",
            "[29 67]\n"
          ],
          "name": "stdout"
        }
      ]
    },
    {
      "cell_type": "code",
      "metadata": {
        "colab": {
          "base_uri": "https://localhost:8080/"
        },
        "id": "flYQYDXORvit",
        "outputId": "d9fe1f3d-e859-4bc3-f3d9-201b56035459"
      },
      "source": [
        "# Matrix / matrix product; both produce the rank 2 array\n",
        "# [[19 22]\n",
        "#  [43 50]]\n",
        "print(x.dot(y))\n",
        "print(np.dot(x, y))"
      ],
      "execution_count": null,
      "outputs": [
        {
          "output_type": "stream",
          "text": [
            "[[19 22]\n",
            " [43 50]]\n",
            "[[19 22]\n",
            " [43 50]]\n"
          ],
          "name": "stdout"
        }
      ]
    },
    {
      "cell_type": "markdown",
      "metadata": {
        "id": "2HAgspG_VDfE"
      },
      "source": [
        "### Array Flags\n",
        "Ndarray object has the following attributes. Its current values are returned\n",
        " by this function.\n",
        "- C_CONTIGUOUS (C) -The data is in a single, C-style contiguous segment\n",
        "- F_CONTIGUOUS (F) - The data is in a single, Fortran-style contiguous segment\t\n",
        "- OWNDATA (O) - The array owns the memory it uses or borrows it from another object\t\n",
        "- WRITEABLE (W) - The data area can be written to. Setting this to False locks the data, making it read-only\n",
        "- ALIGNED (A) - The data and all elements are aligned appropriately for the hardware\n",
        "- UPDATEIFCOPY (U) - This array is a copy of some other array. When this array is deallocated, the base array will be updated with the contents of this array"
      ]
    },
    {
      "cell_type": "code",
      "metadata": {
        "id": "tYJqGzqjVM7R"
      },
      "source": [
        "arr = np.array([1,2,3,4,5]) \n",
        "print(arr.flags)"
      ],
      "execution_count": null,
      "outputs": []
    },
    {
      "cell_type": "markdown",
      "metadata": {
        "id": "j27203o3IsCw"
      },
      "source": [
        "## Resources :\n",
        "\n",
        "\n",
        "- Nicolas P. Rougier's Book \"From Python to Numpy\" ->\n",
        " [Link](https://www.labri.fr/perso/nrougier/from-python-to-numpy/) || [Link-2](https://github.com/rougier/numpy-tutorial)\n",
        "- NumPy Official Documentation -> [Link](https://numpy.org/devdocs/user/absolute_beginners.html)\n",
        "- Kaggle Has plethora of notebooks -> [Link](www.kaggle.com)\n",
        "- Learning the python hardway -> [Link](https://learnpythonthehardway.org/book/)\n",
        "- Free Code Camp's Videos -> [Link](https://www.youtube.com/watch?v=QUT1VHiLmmI)\n",
        "- Edureka's video on Numpy -> [Link](https://www.youtube.com/watch?v=8JfDAm9y_7s) || [Link-2](https://www.edureka.co/blog/python-numpy-tutorial/)\n",
        "- Derek Banas videos rock(the best) -> [Link](https://www.youtube.com/watch?v=8Y0qQEh7dJg)\n",
        "- Numpy Playlist -> [Link](https://youtu.be/GB9ByFAIAH4?list=RDQMZI0VMokkS5U)\n",
        "- Scipy Lectures -> [Link](https://scipy-lectures.org/)\n",
        "- Machine Learning Plus -> [Link](https://www.machinelearningplus.com/python/numpy-tutorial-part1-array-python-examples/)\n",
        "- DataQuest.io Tutorial -> [Link](https://www.dataquest.io/blog/numpy-tutorial-python/)\n",
        "- Stanford's Lecture on Numpy-> [Link](https://cs231n.github.io/python-numpy-tutorial/#numpy)\n",
        "\n"
      ]
    },
    {
      "cell_type": "code",
      "metadata": {
        "id": "R94LIkosI8Yi"
      },
      "source": [
        ""
      ],
      "execution_count": null,
      "outputs": []
    }
  ]
}